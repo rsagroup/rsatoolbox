{
 "cells": [
  {
   "cell_type": "markdown",
   "metadata": {},
   "source": [
    "# Dataset objects in pyrsa\n",
    "\n",
    "These exercises show how to load and structure a dataset object.\n",
    "\n",
    "In this demo, we will first provide a walkthrough for loading a single-subject dataset from a .mat file and arranging it into a pyRSA dataset object.\n",
    "\n",
    "We then demonstrate how to create dataset objects using data from multiple subjects."
   ]
  },
  {
   "cell_type": "code",
   "execution_count": null,
   "metadata": {},
   "outputs": [],
   "source": [
    "# relevant imports\n",
    "import numpy as np\n",
    "from scipy import io\n",
    "import matplotlib.pyplot as plt\n",
    "import pyrsa\n",
    "import pyrsa.data as rsd # abbreviation to deal with dataset"
   ]
  },
  {
   "cell_type": "markdown",
   "metadata": {},
   "source": [
    "## 1. Single-subject dataset example\n",
    "\n",
    "### Getting started"
   ]
  },
  {
   "cell_type": "markdown",
   "metadata": {},
   "source": [
    "We will use a dataset where one subject was presented with 92 different visual stimuli while brain responses were measured in 100 voxels.\n",
    "The different visual stimuli (each row) are the conditions, and the voxels (each column) are the measurement channels."
   ]
  },
  {
   "cell_type": "code",
   "execution_count": null,
   "metadata": {},
   "outputs": [],
   "source": [
    "# import the measurements for the dataset\n",
    "measurements = io.matlab.loadmat('92imageData/simTruePatterns.mat')\n",
    "measurements = measurements['simTruePatterns']\n",
    "nCond = measurements.shape[0]\n",
    "nVox = measurements.shape[1]\n",
    "\n",
    "# plot the imported data\n",
    "plt.imshow(measurements,cmap='gray') \n",
    "plt.xlabel('Voxels')\n",
    "plt.ylabel('Conditions')\n",
    "plt.title('Measurements')"
   ]
  },
  {
   "cell_type": "markdown",
   "metadata": {},
   "source": [
    "## Creating the dataset object\n",
    "\n",
    "We will now arrange the loaded data into a dataset object for use in pyrsa.\n",
    "\n",
    "A dataset object contains all the information needed to calculate a representational dissimilarity matrix (RDM). Therefore, the dataest must include:\n",
    " - measurements: [NxP] numpy.ndarray. These are the observations (N) from each measurement channel (P).\n",
    " - obs_descriptors: dict that defines the condition label associated with each observation in measurements\n",
    "\n",
    "Because we also want to include helpful information about this dataset, we include the additional information:\n",
    " - descriptors: dict with metadata about this dataset object (e.g. experiment session #, subject #, experiment name). Basically general descriptions\n",
    " - channel_descriptors: dict that identifies each column (channel) in measurements\n",
    "\n",
    "To start, we will note the session # (e.g. the first scanning session) and the subject # for this dataset. In addition, we will create labels for each of the 92 conditions and 100 voxels. Finally, we package this information into a pyrsa dataset object."
   ]
  },
  {
   "cell_type": "code",
   "execution_count": null,
   "metadata": {},
   "outputs": [],
   "source": [
    "# now create a  dataset object\n",
    "des = {'session': 1, 'subj': 1}\n",
    "obs_des = {'conds': np.array(['cond_' + str(x) for x in np.arange(nCond)])}\n",
    "chn_des = {'voxels': np.array(['voxel_' + str(x) for x in np.arange(nVox)])}\n",
    "#obs_des = {'conds': np.array(['cond_' + str(x) for x in np.arange(1,nCond+1)])} # indices from 1\n",
    "#chn_des = {'conds': np.array(['voxel' + str(x) for x in np.arange(1,nVox+1)])} # indices from 1\n",
    "data = rsd.Dataset(measurements=measurements,\n",
    "                           descriptors=des,\n",
    "                           obs_descriptors=obs_des,\n",
    "                           channel_descriptors=chn_des)\n",
    "print(data)"
   ]
  },
  {
   "cell_type": "markdown",
   "metadata": {},
   "source": [
    "Sometimes we wish to consider only a subset of data - either a subset of observations (conditions), or subset of measurement channels.  This might be to only consider the measurement channels where all the subjects have data, or conditions which occur across all subjects / sessions. Using dataset functionality, we can subset the datasets according to a subset of the conditions or channels via 'subset_obs' and 'subset_channel', respectively."
   ]
  },
  {
   "cell_type": "code",
   "execution_count": null,
   "metadata": {},
   "outputs": [],
   "source": [
    "# create an example dataset with random data, subset some conditions\n",
    "nChannel = 50\n",
    "nObs = 12\n",
    "randomData = np.random.rand(nObs, nChannel)\n",
    "des = {'session': 1, 'subj': 1}\n",
    "obs_des = {'conds': np.array([0, 0, 1, 1, 2, 2, 3, 3, 4, 4, 5, 5])}\n",
    "chn_des = {'voxels': np.array(['voxel_' + str(x) for x in np.arange(nChannel)])}\n",
    "data = rsd.Dataset(measurements=randomData,\n",
    "                        descriptors=des,\n",
    "                        obs_descriptors=obs_des,\n",
    "                        channel_descriptors=chn_des\n",
    "                        )\n",
    "# select a subset of the dataset: select data only from conditions 0:4\n",
    "sub_data = data.subset_obs(by='conds', value=[0,1,2,3,4])\n",
    "print(sub_data)"
   ]
  },
  {
   "cell_type": "markdown",
   "metadata": {},
   "source": [
    "Additionally, you might want to split the data in a certain way and analyze the splits as separate datasets. For instance, if your data is organized such that there are different ROIs, you might wish to perform the subsequent analyses separately for each ROI. Similarly, you could split the observations. This is supported with 'split_obs' and 'split_channel' options on the dataset object."
   ]
  },
  {
   "cell_type": "code",
   "execution_count": null,
   "metadata": {},
   "outputs": [],
   "source": [
    "# Split by channels\n",
    "nChannel = 3 \n",
    "nChannelVox = 10 # three ROIs, each with 10 voxels\n",
    "nObs = 4\n",
    "randomData = np.random.rand(nObs, nChannel*nChannelVox)\n",
    "des = {'session': 1, 'subj': 1}\n",
    "obs_des = {'conds': np.array([0, 1, 2, 3])}\n",
    "chn_des = np.matlib.repmat(['ROI1','ROI2','ROI3'],1,nChannelVox)\n",
    "chn_des = {'ROIs': np.array(chn_des[0])}\n",
    "data = rsd.Dataset(measurements=randomData,\n",
    "                        descriptors=des,\n",
    "                        obs_descriptors=obs_des,\n",
    "                        channel_descriptors=chn_des\n",
    "                        )\n",
    "split_data = data.split_channel(by='ROIs')\n",
    "print(split_data)"
   ]
  },
  {
   "cell_type": "markdown",
   "metadata": {},
   "source": [
    "## 2. Multi-subject dataset example\n",
    "\n",
    "First, we generate random data for a number of subjects. For simplicity, here we set each subject to have the same number of voxels and conditions."
   ]
  },
  {
   "cell_type": "code",
   "execution_count": null,
   "metadata": {},
   "outputs": [],
   "source": [
    "# create a datasets with random data\n",
    "nVox = 50 # 50 voxels/electrodes/measurement channels\n",
    "nCond = 10 # 10 conditions\n",
    "nSubj = 5 # 5 different subjects\n",
    "randomData = np.random.rand(nConds, nChannel, nSubj)"
   ]
  },
  {
   "cell_type": "markdown",
   "metadata": {},
   "source": [
    "We can then create a list of dataset objects by appending each dataset for each subject."
   ]
  },
  {
   "cell_type": "code",
   "execution_count": null,
   "metadata": {},
   "outputs": [],
   "source": [
    "obs_des = {'conds': np.array(['cond_' + str(x) for x in np.arange(nCond)])}\n",
    "chn_des = {'voxels': np.array(['voxel_' + str(x) for x in np.arange(nVox)])}\n",
    "\n",
    "data = [] # list of dataset objects\n",
    "for i in np.arange(nSubj):\n",
    "    des = {'session': 1, 'subj': i+1}\n",
    "    # append the dataset object to the data list\n",
    "    data.append(rsd.Dataset(measurements=randomData[:,:,0],\n",
    "                        descriptors=des,\n",
    "                        obs_descriptors=obs_des,\n",
    "                        channel_descriptors=chn_des\n",
    "                        )\n",
    "               )"
   ]
  }
 ],
 "metadata": {
  "kernelspec": {
   "display_name": "Python 3",
   "language": "python",
   "name": "python3"
  },
  "language_info": {
   "codemirror_mode": {
    "name": "ipython",
    "version": 3
   },
   "file_extension": ".py",
   "mimetype": "text/x-python",
   "name": "python",
   "nbconvert_exporter": "python",
   "pygments_lexer": "ipython3",
   "version": "3.7.1"
  }
 },
 "nbformat": 4,
 "nbformat_minor": 2
}

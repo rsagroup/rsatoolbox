{
 "cells": [
  {
   "cell_type": "markdown",
   "metadata": {},
   "source": [
    "# Estimating dissimilarities\n",
    "\n",
    "These exercises show how to estimate dissimilarities on the dataset object."
   ]
  },
  {
   "cell_type": "code",
   "execution_count": 36,
   "metadata": {},
   "outputs": [],
   "source": [
    "# relevant imports\n",
    "import numpy as np\n",
    "from scipy import io\n",
    "import matplotlib.pyplot as plt\n",
    "import pyrsa\n",
    "import pyrsa.data as rsd # abbreviation to deal with dataset\n",
    "import pyrsa.rdm as rsr"
   ]
  },
  {
   "cell_type": "code",
   "execution_count": 37,
   "metadata": {},
   "outputs": [],
   "source": [
    "# create a dataset object\n",
    "measurements = io.matlab.loadmat('92imageData/simTruePatterns.mat')\n",
    "measurements = measurements['simTruePatterns']\n",
    "nCond = measurements.shape[0]\n",
    "nVox = measurements.shape[1]\n",
    "# now create a  dataset object\n",
    "des = {'session': 1, 'subj': 1}\n",
    "obs_des = {'conds': np.array(['cond_' + str(x) for x in np.arange(nCond)])}\n",
    "chn_des = {'voxels': np.array(['voxel_' + str(x) for x in np.arange(nVox)])}\n",
    "data = rsd.Dataset(measurements=measurements,\n",
    "                           descriptors=des,\n",
    "                           obs_descriptors=obs_des,\n",
    "                           channel_descriptors=chn_des)"
   ]
  },
  {
   "cell_type": "code",
   "execution_count": 68,
   "metadata": {},
   "outputs": [
    {
     "data": {
      "text/plain": [
       "pyrsa.rdm.RDMs(\n",
       "dissimilarity_measure = \n",
       "euclidean\n",
       "dissimilarities = \n",
       "[[5.03147259e+32 6.37911047e+32 1.15364537e+33 ... 2.90198805e+32\n",
       "  2.67806999e+32 1.85140629e+32]]\n",
       "descriptors = \n",
       "{'session': 1, 'subj': 1}\n",
       "rdm_descriptors = \n",
       "{'RDM': array(['RDM_1'], dtype='<U5'), 'index': array([0])}\n",
       "pattern_descriptors = \n",
       "{'conds': array(['cond_0', 'cond_1', 'cond_2', 'cond_3', 'cond_4', 'cond_5',\n",
       "       'cond_6', 'cond_7', 'cond_8', 'cond_9', 'cond_10', 'cond_11',\n",
       "       'cond_12', 'cond_13', 'cond_14', 'cond_15', 'cond_16', 'cond_17',\n",
       "       'cond_18', 'cond_19', 'cond_20', 'cond_21', 'cond_22', 'cond_23',\n",
       "       'cond_24', 'cond_25', 'cond_26', 'cond_27', 'cond_28', 'cond_29',\n",
       "       'cond_30', 'cond_31', 'cond_32', 'cond_33', 'cond_34', 'cond_35',\n",
       "       'cond_36', 'cond_37', 'cond_38', 'cond_39', 'cond_40', 'cond_41',\n",
       "       'cond_42', 'cond_43', 'cond_44', 'cond_45', 'cond_46', 'cond_47',\n",
       "       'cond_48', 'cond_49', 'cond_50', 'cond_51', 'cond_52', 'cond_53',\n",
       "       'cond_54', 'cond_55', 'cond_56', 'cond_57', 'cond_58', 'cond_59',\n",
       "       'cond_60', 'cond_61', 'cond_62', 'cond_63', 'cond_64', 'cond_65',\n",
       "       'cond_66', 'cond_67', 'cond_68', 'cond_69', 'cond_70', 'cond_71',\n",
       "       'cond_72', 'cond_73', 'cond_74', 'cond_75', 'cond_76', 'cond_77',\n",
       "       'cond_78', 'cond_79', 'cond_80', 'cond_81', 'cond_82', 'cond_83',\n",
       "       'cond_84', 'cond_85', 'cond_86', 'cond_87', 'cond_88', 'cond_89',\n",
       "       'cond_90', 'cond_91'], dtype='<U7'), 'index': array([ 0,  1,  2,  3,  4,  5,  6,  7,  8,  9, 10, 11, 12, 13, 14, 15, 16,\n",
       "       17, 18, 19, 20, 21, 22, 23, 24, 25, 26, 27, 28, 29, 30, 31, 32, 33,\n",
       "       34, 35, 36, 37, 38, 39, 40, 41, 42, 43, 44, 45, 46, 47, 48, 49, 50,\n",
       "       51, 52, 53, 54, 55, 56, 57, 58, 59, 60, 61, 62, 63, 64, 65, 66, 67,\n",
       "       68, 69, 70, 71, 72, 73, 74, 75, 76, 77, 78, 79, 80, 81, 82, 83, 84,\n",
       "       85, 86, 87, 88, 89, 90, 91])}"
      ]
     },
     "execution_count": 68,
     "metadata": {},
     "output_type": "execute_result"
    }
   ],
   "source": [
    "# calculate an RDM\n",
    "RDM_euc = rsr.calc_rdm(data)\n",
    "RDM_corr = rsr.calc_rdm(data,method='correlation',descriptor='conds')\n",
    "# create an RDM object \n",
    "rdm_des = {'RDM': np.array(['RDM_1'])}\n",
    "RDM_euc2 = rsr.RDMs(RDM_euc.dissimilarities,dissimilarity_measure=RDM_euc.dissimilarity_measure,\\\n",
    "                    descriptors=RDM_euc.descriptors,rdm_descriptors=rdm_des,\\\n",
    "                   pattern_descriptors=obs_des)\n",
    "RDM_euc2"
   ]
  },
  {
   "cell_type": "markdown",
   "metadata": {},
   "source": [
    "Euclidean dissimilarities are the default method for calculating the RDM if no input is provided on the method. See full documentation for explanation on differences between methods.\n",
    "The calculated dissimilarities are saved as a vector of strung-out upper-triangular elements of the RDM matrix. Note also that the RDM object inherits the descriptors from the dataset object."
   ]
  },
  {
   "cell_type": "code",
   "execution_count": null,
   "metadata": {},
   "outputs": [],
   "source": [
    "RDM.dissimilarities # here a vector\n",
    "dist_matrix = RDM.get_matrices()\n",
    "print(dist_matrix)"
   ]
  },
  {
   "cell_type": "markdown",
   "metadata": {},
   "source": [
    "To convert dissimilarities from vectors to matrices and vice versa use the 'get_matrices' and 'get_vectors' options."
   ]
  },
  {
   "cell_type": "code",
   "execution_count": null,
   "metadata": {},
   "outputs": [],
   "source": [
    "# create RDM object for several RDMs"
   ]
  },
  {
   "cell_type": "code",
   "execution_count": null,
   "metadata": {},
   "outputs": [],
   "source": [
    "# make a dataset object with multiple runs and calculate mahalanobis dissimilarities"
   ]
  }
 ],
 "metadata": {
  "kernelspec": {
   "display_name": "Python 3",
   "language": "python",
   "name": "python3"
  },
  "language_info": {
   "codemirror_mode": {
    "name": "ipython",
    "version": 3
   },
   "file_extension": ".py",
   "mimetype": "text/x-python",
   "name": "python",
   "nbconvert_exporter": "python",
   "pygments_lexer": "ipython3",
   "version": "3.6.5"
  }
 },
 "nbformat": 4,
 "nbformat_minor": 2
}
